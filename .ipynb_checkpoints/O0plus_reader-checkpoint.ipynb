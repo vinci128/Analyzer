{
 "cells": [
  {
   "cell_type": "markdown",
   "metadata": {},
   "source": [
    "In this notebook we will read output binary files from a montecarlo simulation of a SU(2) theory with an adjoint Higgs. The first cell is for definitions of functions useful for reading and storing into arrays the measurements of the spectroscopical operators with quantum number J_p = 0_minus, calculating the correlators and doing statistics, in order to obtain plottable results. There are 3 observable, one that we will call B, and other three, that we will call T_1,T_2 and T_3. There are 5 smearing levels, and 3 spatial directions. The operator B has a small momentum in the z direction: P_z= 2\\pi/N_z"
   ]
  },
  {
   "cell_type": "code",
   "execution_count": 1,
   "metadata": {},
   "outputs": [],
   "source": [
    "import numpy as np\n",
    "import matplotlib.pyplot as plt\n",
    "import pyhmc as phmc\n",
    "\n",
    "import struct\n",
    "\n",
    "Nt=8\n",
    "w = 1\n",
    "n_smear = 1\n",
    "n_op = 3\n",
    "n_meas = 4000\n",
    "\n",
    "\n",
    "def readfile(SC1_,SC2_,SC3_,fn):\n",
    "    b_l = w * 8\n",
    "    ck = b_l*Nt*n_op\n",
    "    Sm_ck = ck*n_smear\n",
    "    with  open(fn,\"rb\" ) as f:\n",
    "        fileContent =f.read()\n",
    "        for n in range(n_meas):\n",
    "            for ns in range(n_smear):\n",
    "            #print(ns)\n",
    "                for t in range(Nt):\n",
    "                    SC1_[n][ns][t]=struct.unpack(\"d\", fileContent[(Sm_ck*n)+(ck*ns)+b_l*t:(Sm_ck*n)+(ck*ns)+(t+1)*b_l])[0]\n",
    "                    SC2_[n][ns][t]=struct.unpack(\"d\", fileContent[(Sm_ck*n)+(ck*ns)+(b_l*Nt)+b_l*t:(Sm_ck*n)+(ck*ns)+(b_l*Nt)+(t+1)*b_l])[0]\n",
    "                    SC3_[n][ns][t]=struct.unpack(\"d\", fileContent[(Sm_ck*n)+(ck*ns)+(b_l*Nt*2)+b_l*t:(Sm_ck*n)+(ck*ns)+(b_l*Nt*2)+(t+1)*b_l])[0]\n",
    "                    #T3_[n][ns][t]=struct.unpack(\"d\"*1, fileContent[(Sm_ck*n)+(ck*ns)+(b_l*Nt*3)+b_l*t:(Sm_ck*n)+(ck*ns)+(b_l*Nt*3)+(t+1)*b_l])\n",
    "\n",
    "def correlator(c1,c2,c3):\n",
    "\n",
    "    for n in range(n_meas):\n",
    "        for ns in range(n_smear):\n",
    "            for t in range(Nt):\n",
    "                #for t_pr in range(Nt):\n",
    "                    c1[n][ns][t] += SC1[n][ns][0]*SC1[n][ns][(t)%Nt]\n",
    "                    c2[n][ns][t] += SC2[n][ns][0]*SC2[n][ns][(t)%Nt]\n",
    "                    c3[n][ns][t] += SC3[n][ns][0]*SC3[n][ns][(t)%Nt]\n",
    "\n",
    "def stat(c_res,c):\n",
    "    c_res[0] =  np.mean(c,axis =0 )\n",
    "    c_res[1] = np.std(c,axis =0 )\n",
    "    c_res[2] = [[0 for t in range(Nt)]for sm in range(n_smear) ]     \n",
    "    for ns in range(n_smear):\n",
    "        for t in range(Nt):\n",
    "            vec = []\n",
    "            for n in range(n_meas):\n",
    "                vec.append(float(c[n][ns][t]))\n",
    "            c_res[2][ns][t] = phmc.integrated_autocorr6(np.array(vec),6)\n",
    "            print(c_res[2][ns][t])\n",
    "            c_res[1][ns][t] = c_res[1][ns][t]* np.sqrt(c_res[2][ns][t]/n_meas)   \n",
    "            \n",
    "def conn_corr(c_c,c_c_err,corr,op):\n",
    "    for ns in range(1):\n",
    "        for t in range(Nt):\n",
    "            c_c[t] = corr[0][ns][t] - op[0][ns][t]*op[0][ns][0]\n",
    "            c_c_err[t] = corr[1][ns][t] +op[0][ns][t]*op[0][ns][0]*np.sqrt((op[1][ns][t]/op[0][ns][t])**2 +(op[1][ns][0]/op[0][ns][0])**2)\n",
    "    \n",
    "def plot_C1(kappa):\n",
    "    T = list(range(Nt))\n",
    "    C1_avg = list(range(Nt))\n",
    "    C1_err = list(range(Nt))\n",
    "\n",
    "    plt.rc('text', usetex=True)\n",
    "    plt.rc('font', family='serif')\n",
    "\n",
    "#for ns in range(1):\n",
    "#    for t in range(Nt):\n",
    "#        C1_avg[t] = C1_res[0][ns][t]\n",
    "#        C1_err[t] = C1_res[1][ns][t]\n",
    "\n",
    "    conn_corr(C1_avg,C1_err,C1_res,OP1_res)\n",
    "\n",
    "    print(C1_avg)\n",
    "    print(C1_err)\n",
    "    \n",
    "    plt.figure(num=None, figsize=(8, 6), dpi=160, facecolor='w', edgecolor='k')\n",
    "    plt.errorbar(T,C1_avg,C1_err,fmt='o',label = 'data')\n",
    "    plt.xlabel('t')\n",
    "    plt.ylabel(r'$C_1(t)$')\n",
    "    plt.xlim([-0.5,8.5])\n",
    "    #plt.yscale(\"log\")\n",
    "    plt.title(r\"$SC_1$  Correlator at smearing level %d ($\\beta=4, \\kappa=%f, \\lambda=1 $)\" % (ns,kappa))\n",
    "    plt.savefig(\"O0plus/SC1_corr_k%f.jpg\" % (kappa))\n",
    "    \n",
    "def plot_C2(kappa):\n",
    "    T = list(range(Nt))\n",
    "    C2_avg = list(range(Nt))\n",
    "    C2_err = list(range(Nt))\n",
    "\n",
    "    plt.rc('text', usetex=True)\n",
    "    plt.rc('font', family='serif')\n",
    "\n",
    "    conn_corr(C2_avg,C2_err,C2_res,OP2_res)\n",
    "\n",
    "    \n",
    "    #print(C2_avg)\n",
    "    #print(C2_err)\n",
    "    \n",
    "    plt.figure(num=None, figsize=(8, 6), dpi=160, facecolor='w', edgecolor='k')\n",
    "    plt.errorbar(T,C2_avg,C2_err,fmt='o',label = 'data')\n",
    "    plt.xlabel('t')\n",
    "    plt.ylabel(r'$C_2(t)$')\n",
    "    plt.xlim([-0.5,8.5])\n",
    "    #plt.yscale(\"log\")\n",
    "    plt.title(r\"$SC_2$  Correlator at smearing level %d ($\\beta=4, \\kappa=%f, \\lambda=1 $)\" % (ns,kappa))\n",
    "    plt.savefig(\"O0plus/SC2_corr_k%f.jpg\" % (kappa))    \n",
    "    \n",
    "def plot_C3(kappa):\n",
    "    T = list(range(Nt))\n",
    "    C3_avg = list(range(Nt))\n",
    "    C3_err = list(range(Nt))\n",
    "\n",
    "    plt.rc('text', usetex=True)\n",
    "    plt.rc('font', family='serif')\n",
    "\n",
    "    conn_corr(C3_avg,C3_err,C3_res,OP3_res)\n",
    "\n",
    "    \n",
    "    #print(C3_avg)\n",
    "    #print(C3_err)\n",
    "    \n",
    "    plt.figure(num=None, figsize=(8, 6), dpi=160, facecolor='w', edgecolor='k')\n",
    "    plt.errorbar(T,C3_avg,C3_err,fmt='o',label = 'data')\n",
    "    plt.xlabel('t')\n",
    "    plt.ylabel(r'$C_3(t)$')\n",
    "    plt.xlim([-0.5,8.5])\n",
    "#plt.yscale(\"log\")\n",
    "    plt.title(r\"$SC_3$  Correlator at smearing level %d ($\\beta=4, \\kappa=%f, \\lambda=1 $)\" % (ns,kappa))\n",
    "    plt.savefig(\"O0plus/SC3_corr_k%f.jpg\" % (kappa))    "
   ]
  },
  {
   "cell_type": "code",
   "execution_count": 2,
   "metadata": {},
   "outputs": [
    {
     "name": "stdout",
     "output_type": "stream",
     "text": [
      "0\n"
     ]
    }
   ],
   "source": [
    "SC1 = [[[0 for y in range(Nt)]for z in range(n_smear) ]for n in range(n_meas)]\n",
    "SC2 = [[[0 for y in range(Nt)]for z in range(n_smear) ] for n in range(n_meas)]\n",
    "SC3 = [[[0 for y in range(Nt)]for z in range(n_smear) ] for n in range(n_meas)]\n",
    "\n",
    "C1 = [[[0 for y in range(Nt)]for z in range(n_smear) ] for n in range(n_meas) ]\n",
    "C2 = [[[0 for y in range(Nt)]for z in range(n_smear) ] for n in range(n_meas) ]\n",
    "C3 = [[[0 for y in range(Nt)]for z in range(n_smear) ] for n in range(n_meas) ]\n",
    "\n",
    "\n",
    "C1_res = [0 for y in range(3)]\n",
    "C2_res = [0 for y in range(3)]\n",
    "C3_res = [0 for y in range(3)]\n",
    "\n",
    "OP1_res = [0 for y in range(3)]\n",
    "OP2_res = [0 for y in range(3)]\n",
    "OP3_res = [0 for y in range(3)]\n",
    "\n",
    "\n",
    "\n",
    "\n",
    "#print(B)        \n",
    "print(SC1[0][0][0])\n",
    "#print(T2[0][Nt-1][2])\n",
    "#print(T3[0][Nt-1][2])"
   ]
  },
  {
   "cell_type": "code",
   "execution_count": 64,
   "metadata": {},
   "outputs": [
    {
     "name": "stdout",
     "output_type": "stream",
     "text": [
      "824.1861476912059\n"
     ]
    }
   ],
   "source": [
    "def analysis_plot(kappa):\n",
    "    filename = \"O0plus_output_files/output_Nt%d_Nx%d_Ny%d_Nz%d_B4.000000_K%f_L1.000000.bin\" % (Nt,Nt,Nt,Nt,kappa) \n",
    "    readfile(SC1,SC2,SC3,filename)\n",
    "    correlator(C1,C2,C3)  \n",
    "    stat(C1_res,C1)\n",
    "    stat(C2_res,C2)\n",
    "    stat(C3_res,C3)\n",
    "    stat(OP1_res,SC1)\n",
    "    stat(OP2_res,SC2)\n",
    "    stat(OP3_res,SC3)          \n",
    "    plot_C1(kappa)\n",
    "    plot_C2(kappa)\n",
    "    plot_C3(kappa)"
   ]
  },
  {
   "cell_type": "code",
   "execution_count": 65,
   "metadata": {},
   "outputs": [
    {
     "name": "stdout",
     "output_type": "stream",
     "text": [
      "[10.28570833]\n",
      "[11.15476227]\n",
      "[10.32123644]\n",
      "[7.92637283]\n",
      "[12.3871551]\n",
      "[8.8042267]\n",
      "[7.80268323]\n",
      "[9.33320335]\n",
      "[10.52242271]\n",
      "[14.05048868]\n",
      "[12.79694494]\n",
      "[10.96537287]\n",
      "[12.4633448]\n",
      "[10.76761295]\n",
      "[8.60194891]\n",
      "[10.17445831]\n",
      "[3.05240484]\n",
      "[3.01831687]\n",
      "[2.80126875]\n",
      "[2.88353794]\n",
      "[3.0134659]\n",
      "[3.04836757]\n",
      "[3.13388763]\n",
      "[3.14442351]\n",
      "[10.29487209]\n",
      "[7.19103641]\n",
      "[7.66448815]\n",
      "[6.87905354]\n",
      "[9.10568777]\n",
      "[7.26022481]\n",
      "[5.30430624]\n",
      "[6.97411339]\n",
      "[10.51159597]\n",
      "[9.3007185]\n",
      "[8.9863933]\n",
      "[8.27870262]\n",
      "[9.48432582]\n",
      "[9.77532557]\n",
      "[5.69877251]\n",
      "[7.33692943]\n",
      "[3.05359748]\n",
      "[2.93173913]\n",
      "[3.06492147]\n",
      "[2.95620941]\n",
      "[3.06396837]\n",
      "[2.9589996]\n",
      "[3.15676707]\n",
      "[3.14558392]\n",
      "786.5564310375769\n"
     ]
    }
   ],
   "source": [
    "for k in range(21):\n",
    "    kap = 0.45+k*0.01 \n",
    "    analysis_plot(kap)"
   ]
  },
  {
   "cell_type": "code",
   "execution_count": 66,
   "metadata": {},
   "outputs": [
    {
     "name": "stdout",
     "output_type": "stream",
     "text": [
      "[0.48389087565158206, 0.07610566711230149, 0.03633999738281091, -0.00021111649289196066, 0.0018207970633739023, 0.0013036019487344674, 0.013413956491717727, 0.053176681636273315]\n",
      "[3.376924989071025, 2.8749955740908435, 2.720422574504666, 2.477635945124777, 2.8942427089838425, 2.5868020251506163, 2.4399747555505127, 2.67029938902719]\n"
     ]
    },
    {
     "data": {
      "image/png": "[encoded data removed]",
      "text/plain": [
       "<Figure size 1280x960 with 1 Axes>"
      ]
     },
     "metadata": {},
     "output_type": "display_data"
    }
   ],
   "source": [
    "def plot_C1(kappa):\n",
    "    T = list(range(Nt))\n",
    "    C1_avg = list(range(Nt))\n",
    "    C1_err = list(range(Nt))\n",
    "\n",
    "    plt.rc('text', usetex=True)\n",
    "    plt.rc('font', family='serif')\n",
    "\n",
    "#for ns in range(1):\n",
    "#    for t in range(Nt):\n",
    "#        C1_avg[t] = C1_res[0][ns][t]\n",
    "#        C1_err[t] = C1_res[1][ns][t]\n",
    "\n",
    "    conn_corr(C1_avg,C1_err,C1_res,OP1_res)\n",
    "\n",
    "    print(C1_avg)\n",
    "    print(C1_err)\n",
    "    \n",
    "    plt.figure(num=None, figsize=(8, 6), dpi=160, facecolor='w', edgecolor='k')\n",
    "    plt.errorbar(T,C1_avg,C1_err,fmt='o',label = 'data')\n",
    "    plt.xlabel('t')\n",
    "    plt.ylabel(r'$C_1(t)$')\n",
    "    plt.xlim([-0.5,8.5])\n",
    "    #plt.yscale(\"log\")\n",
    "    plt.title(r\"$SC_1$  Correlator at smearing level %d ($\\beta=4, \\kappa=%f, \\lambda=1 $)\" % (ns,kappa))\n",
    "    plt.savefig(\"O0plus/SC1_corr_k%f.jpg\" % (kappa))"
   ]
  },
  {
   "cell_type": "code",
   "execution_count": 67,
   "metadata": {},
   "outputs": [
    {
     "name": "stdout",
     "output_type": "stream",
     "text": [
      "[2.0015074583674846, 0.49266276618755, 0.2058503602168571, 0.03186148214081186, 0.029992622983229467, -0.002066521155313694, 0.12902958991099922, 0.4562022950233313]\n",
      "[4.451093076108022, 4.202267691863195, 3.8669249494743037, 3.5998581876893545, 3.8239005862927677, 3.6928262599884754, 3.2944408100769147, 3.702493871660465]\n"
     ]
    },
    {
     "data": {
      "image/png": "[encoded data removed]",
      "text/plain": [
       "<Figure size 1280x960 with 1 Axes>"
      ]
     },
     "metadata": {},
     "output_type": "display_data"
    }
   ],
   "source": [
    "def plot_C2(kappa):\n",
    "    T = list(range(Nt))\n",
    "    C2_avg = list(range(Nt))\n",
    "    C2_err = list(range(Nt))\n",
    "\n",
    "    plt.rc('text', usetex=True)\n",
    "    plt.rc('font', family='serif')\n",
    "\n",
    "    conn_corr(C2_avg,C2_err,C2_res,OP2_res)\n",
    "\n",
    "    \n",
    "    #print(C2_avg)\n",
    "    #print(C2_err)\n",
    "    \n",
    "    plt.figure(num=None, figsize=(8, 6), dpi=160, facecolor='w', edgecolor='k')\n",
    "    plt.errorbar(T,C2_avg,C2_err,fmt='o',label = 'data')\n",
    "    plt.xlabel('t')\n",
    "    plt.ylabel(r'$C_2(t)$')\n",
    "    plt.xlim([-0.5,8.5])\n",
    "    #plt.yscale(\"log\")\n",
    "    plt.title(r\"$SC_2$  Correlator at smearing level %d ($\\beta=4, \\kappa=%f, \\lambda=1 $)\" % (ns,kappa))\n",
    "    plt.savefig(\"O0plus/SC2_corr_k%f.jpg\" % (kappa))"
   ]
  },
  {
   "cell_type": "code",
   "execution_count": 68,
   "metadata": {},
   "outputs": [
    {
     "name": "stdout",
     "output_type": "stream",
     "text": [
      "[0.1475374993060541, 0.005698485531411279, 0.0021831460476278153, -0.0009492265307926573, -0.0003158322415401926, -0.0008796111692390696, -0.005914936538829352, 0.007659011700525298]\n",
      "[2.283703849812974, 1.9021076988990484, 1.8660389506931945, 1.8565492779915276, 1.9031959021134945, 1.8883190116171773, 1.894986783469436, 1.953358623832939]\n"
     ]
    },
    {
     "data": {
      "image/png": "[encoded data removed]",
      "text/plain": [
       "<Figure size 1280x960 with 1 Axes>"
      ]
     },
     "metadata": {},
     "output_type": "display_data"
    }
   ],
   "source": [
    "def plot_C3():\n",
    "    T = list(range(Nt))\n",
    "    C3_avg = list(range(Nt))\n",
    "    C3_err = list(range(Nt))\n",
    "\n",
    "    plt.rc('text', usetex=True)\n",
    "    plt.rc('font', family='serif')\n",
    "\n",
    "    conn_corr(C3_avg,C3_err,C3_res,OP3_res)\n",
    "\n",
    "    \n",
    "    #print(C3_avg)\n",
    "    #print(C3_err)\n",
    "    \n",
    "    plt.figure(num=None, figsize=(8, 6), dpi=160, facecolor='w', edgecolor='k')\n",
    "    plt.errorbar(T,C3_avg,C3_err,fmt='o',label = 'data')\n",
    "    plt.xlabel('t')\n",
    "    plt.ylabel(r'$C_3(t)$')\n",
    "    plt.xlim([-0.5,8.5])\n",
    "#plt.yscale(\"log\")\n",
    "    plt.title(r\"$SC_3$  Correlator at smearing level %d ($\\beta=4, \\kappa=%f, \\lambda=1 $)\" % (ns,kap))\n",
    "    plt.savefig(\"O0plus/SC3_corr_k%f.jpg\" % (kap))"
   ]
  },
  {
   "cell_type": "code",
   "execution_count": null,
   "metadata": {},
   "outputs": [],
   "source": []
  }
 ],
 "metadata": {
  "kernelspec": {
   "display_name": "Python 3",
   "language": "python",
   "name": "python3"
  },
  "language_info": {
   "codemirror_mode": {
    "name": "ipython",
    "version": 3
   },
   "file_extension": ".py",
   "mimetype": "text/x-python",
   "name": "python",
   "nbconvert_exporter": "python",
   "pygments_lexer": "ipython3",
   "version": "3.7.1"
  }
 },
 "nbformat": 4,
 "nbformat_minor": 2
}
